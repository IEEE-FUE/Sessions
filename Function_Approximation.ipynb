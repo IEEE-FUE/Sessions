{
 "cells": [
  {
   "cell_type": "code",
   "execution_count": 6,
   "id": "immune-harbor",
   "metadata": {},
   "outputs": [],
   "source": []
  },
  {
   "cell_type": "markdown",
   "id": "confirmed-spare",
   "metadata": {},
   "source": [
    "# Welcome to <\"Hello, world!\" of Deep Learning Session>\n",
    "### In this session we will get a brief idea on Neural Networks and how to apply them to the MNIST dataset \n"
   ]
  },
  {
   "cell_type": "markdown",
   "id": "swedish-wings",
   "metadata": {},
   "source": [
    "# Section 1: Function approximation\n",
    "## let's see how to approximate a function using a simple line \n",
    "## Let's first plot a sine function "
   ]
  },
  {
   "cell_type": "code",
   "execution_count": 1,
   "id": "dated-executive",
   "metadata": {},
   "outputs": [],
   "source": [
    "import numpy as np\n",
    "import tensorflow as tf\n",
    "from tensorflow.keras.models import Sequential\n",
    "import matplotlib.pyplot as plt"
   ]
  },
  {
   "cell_type": "code",
   "execution_count": 2,
   "id": "parliamentary-tobago",
   "metadata": {},
   "outputs": [],
   "source": [
    "from tensorflow.keras.layers import Dense"
   ]
  },
  {
   "cell_type": "code",
   "execution_count": 3,
   "id": "angry-corps",
   "metadata": {},
   "outputs": [],
   "source": [
    "x = tf.linspace(-np.pi,np.pi,2000)"
   ]
  },
  {
   "cell_type": "code",
   "execution_count": 4,
   "id": "marked-glasgow",
   "metadata": {},
   "outputs": [],
   "source": [
    "y= tf.math.sin(x)"
   ]
  },
  {
   "cell_type": "code",
   "execution_count": 5,
   "id": "circular-friend",
   "metadata": {},
   "outputs": [
    {
     "data": {
      "text/plain": [
       "[<matplotlib.lines.Line2D at 0x1d0da672f10>]"
      ]
     },
     "execution_count": 5,
     "metadata": {},
     "output_type": "execute_result"
    },
    {
     "data": {
      "image/png": "[encoded data removed]",
      "text/plain": [
       "<Figure size 432x288 with 1 Axes>"
      ]
     },
     "metadata": {
      "needs_background": "light"
     },
     "output_type": "display_data"
    }
   ],
   "source": [
    "plt.plot(y)"
   ]
  },
  {
   "cell_type": "code",
   "execution_count": 6,
   "id": "quality-royal",
   "metadata": {
    "scrolled": true
   },
   "outputs": [
    {
     "data": {
      "text/plain": [
       "TensorShape([2000])"
      ]
     },
     "execution_count": 6,
     "metadata": {},
     "output_type": "execute_result"
    }
   ],
   "source": [
    "x.shape"
   ]
  },
  {
   "cell_type": "markdown",
   "id": "imported-cable",
   "metadata": {},
   "source": [
    "## To get a simple line approxiamtion using Keras, we use a single layer with one neuron and no activation function \n"
   ]
  },
  {
   "cell_type": "code",
   "execution_count": 16,
   "id": "plain-crowd",
   "metadata": {},
   "outputs": [],
   "source": [
    "model = Sequential()"
   ]
  },
  {
   "cell_type": "code",
   "execution_count": 17,
   "id": "partial-prairie",
   "metadata": {},
   "outputs": [],
   "source": [
    "model.add(Dense(1,input_dim=1))"
   ]
  },
  {
   "cell_type": "code",
   "execution_count": 18,
   "id": "american-remains",
   "metadata": {},
   "outputs": [],
   "source": [
    "model.compile(optimizer = 'adam',loss='mean_squared_error')"
   ]
  },
  {
   "cell_type": "code",
   "execution_count": 19,
   "id": "personal-contest",
   "metadata": {},
   "outputs": [
    {
     "name": "stdout",
     "output_type": "stream",
     "text": [
      "Model: \"sequential_1\"\n",
      "_________________________________________________________________\n",
      "Layer (type)                 Output Shape              Param #   \n",
      "=================================================================\n",
      "dense_1 (Dense)              (None, 1)                 2         \n",
      "=================================================================\n",
      "Total params: 2\n",
      "Trainable params: 2\n",
      "Non-trainable params: 0\n",
      "_________________________________________________________________\n"
     ]
    }
   ],
   "source": [
    "model.summary()"
   ]
  },
  {
   "cell_type": "code",
   "execution_count": 20,
   "id": "thick-hazard",
   "metadata": {},
   "outputs": [
    {
     "name": "stdout",
     "output_type": "stream",
     "text": [
      "Epoch 1/150\n",
      "63/63 [==============================] - 1s 2ms/step - loss: 0.9169\n",
      "Epoch 2/150\n",
      "63/63 [==============================] - 0s 2ms/step - loss: 0.7245\n",
      "Epoch 3/150\n",
      "63/63 [==============================] - 0s 2ms/step - loss: 0.5975\n",
      "Epoch 4/150\n",
      "63/63 [==============================] - 0s 2ms/step - loss: 0.4855\n",
      "Epoch 5/150\n",
      "63/63 [==============================] - 0s 2ms/step - loss: 0.3963\n",
      "Epoch 6/150\n",
      "63/63 [==============================] - 0s 2ms/step - loss: 0.3365\n",
      "Epoch 7/150\n",
      "63/63 [==============================] - 0s 2ms/step - loss: 0.2930\n",
      "Epoch 8/150\n",
      "63/63 [==============================] - 0s 2ms/step - loss: 0.2572\n",
      "Epoch 9/150\n",
      "63/63 [==============================] - 0s 2ms/step - loss: 0.2406\n",
      "Epoch 10/150\n",
      "63/63 [==============================] - 0s 2ms/step - loss: 0.2179\n",
      "Epoch 11/150\n",
      "63/63 [==============================] - 0s 2ms/step - loss: 0.2116\n",
      "Epoch 12/150\n",
      "63/63 [==============================] - 0s 2ms/step - loss: 0.2044\n",
      "Epoch 13/150\n",
      "63/63 [==============================] - 0s 2ms/step - loss: 0.1929\n",
      "Epoch 14/150\n",
      "63/63 [==============================] - 0s 2ms/step - loss: 0.2024\n",
      "Epoch 15/150\n",
      "63/63 [==============================] - 0s 1ms/step - loss: 0.1967\n",
      "Epoch 16/150\n",
      "63/63 [==============================] - 0s 2ms/step - loss: 0.1942\n",
      "Epoch 17/150\n",
      "63/63 [==============================] - 0s 1ms/step - loss: 0.1965\n",
      "Epoch 18/150\n",
      "63/63 [==============================] - 0s 2ms/step - loss: 0.2005\n",
      "Epoch 19/150\n",
      "63/63 [==============================] - 0s 2ms/step - loss: 0.1961\n",
      "Epoch 20/150\n",
      "63/63 [==============================] - 0s 2ms/step - loss: 0.1959\n",
      "Epoch 21/150\n",
      "63/63 [==============================] - 0s 2ms/step - loss: 0.1973\n",
      "Epoch 22/150\n",
      "63/63 [==============================] - 0s 2ms/step - loss: 0.1963\n",
      "Epoch 23/150\n",
      "63/63 [==============================] - 0s 1ms/step - loss: 0.1951\n",
      "Epoch 24/150\n",
      "63/63 [==============================] - 0s 2ms/step - loss: 0.1992\n",
      "Epoch 25/150\n",
      "63/63 [==============================] - 0s 1ms/step - loss: 0.1959\n",
      "Epoch 26/150\n",
      "63/63 [==============================] - 0s 2ms/step - loss: 0.1947\n",
      "Epoch 27/150\n",
      "63/63 [==============================] - 0s 2ms/step - loss: 0.1907\n",
      "Epoch 28/150\n",
      "63/63 [==============================] - 0s 2ms/step - loss: 0.1976\n",
      "Epoch 29/150\n",
      "63/63 [==============================] - 0s 2ms/step - loss: 0.1931\n",
      "Epoch 30/150\n",
      "63/63 [==============================] - 0s 2ms/step - loss: 0.1896\n",
      "Epoch 31/150\n",
      "63/63 [==============================] - 0s 1ms/step - loss: 0.1922\n",
      "Epoch 32/150\n",
      "63/63 [==============================] - 0s 2ms/step - loss: 0.1982\n",
      "Epoch 33/150\n",
      "63/63 [==============================] - 0s 2ms/step - loss: 0.1943\n",
      "Epoch 34/150\n",
      "63/63 [==============================] - 0s 2ms/step - loss: 0.2015\n",
      "Epoch 35/150\n",
      "63/63 [==============================] - 0s 2ms/step - loss: 0.1882\n",
      "Epoch 36/150\n",
      "63/63 [==============================] - 0s 2ms/step - loss: 0.1949\n",
      "Epoch 37/150\n",
      "63/63 [==============================] - 0s 2ms/step - loss: 0.1985\n",
      "Epoch 38/150\n",
      "63/63 [==============================] - 0s 2ms/step - loss: 0.1959\n",
      "Epoch 39/150\n",
      "63/63 [==============================] - 0s 2ms/step - loss: 0.1966\n",
      "Epoch 40/150\n",
      "63/63 [==============================] - 0s 2ms/step - loss: 0.1933\n",
      "Epoch 41/150\n",
      "63/63 [==============================] - 0s 2ms/step - loss: 0.1980\n",
      "Epoch 42/150\n",
      "63/63 [==============================] - 0s 2ms/step - loss: 0.1987\n",
      "Epoch 43/150\n",
      "63/63 [==============================] - 0s 2ms/step - loss: 0.1916\n",
      "Epoch 44/150\n",
      "63/63 [==============================] - 0s 2ms/step - loss: 0.2014\n",
      "Epoch 45/150\n",
      "63/63 [==============================] - 0s 2ms/step - loss: 0.1981\n",
      "Epoch 46/150\n",
      "63/63 [==============================] - 0s 2ms/step - loss: 0.1911\n",
      "Epoch 47/150\n",
      "63/63 [==============================] - 0s 2ms/step - loss: 0.1930\n",
      "Epoch 48/150\n",
      "63/63 [==============================] - 0s 2ms/step - loss: 0.1967\n",
      "Epoch 49/150\n",
      "63/63 [==============================] - 0s 2ms/step - loss: 0.1966\n",
      "Epoch 50/150\n",
      "63/63 [==============================] - 0s 2ms/step - loss: 0.1967\n",
      "Epoch 51/150\n",
      "63/63 [==============================] - 0s 2ms/step - loss: 0.1938\n",
      "Epoch 52/150\n",
      "63/63 [==============================] - 0s 2ms/step - loss: 0.1944\n",
      "Epoch 53/150\n",
      "63/63 [==============================] - 0s 2ms/step - loss: 0.1913\n",
      "Epoch 54/150\n",
      "63/63 [==============================] - 0s 2ms/step - loss: 0.1986\n",
      "Epoch 55/150\n",
      "63/63 [==============================] - 0s 2ms/step - loss: 0.1924\n",
      "Epoch 56/150\n",
      "63/63 [==============================] - 0s 2ms/step - loss: 0.1909\n",
      "Epoch 57/150\n",
      "63/63 [==============================] - 0s 2ms/step - loss: 0.1973\n",
      "Epoch 58/150\n",
      "63/63 [==============================] - 0s 2ms/step - loss: 0.1992\n",
      "Epoch 59/150\n",
      "63/63 [==============================] - 0s 2ms/step - loss: 0.1948\n",
      "Epoch 60/150\n",
      "63/63 [==============================] - 0s 2ms/step - loss: 0.1972\n",
      "Epoch 61/150\n",
      "63/63 [==============================] - 0s 2ms/step - loss: 0.2030\n",
      "Epoch 62/150\n",
      "63/63 [==============================] - 0s 2ms/step - loss: 0.1940\n",
      "Epoch 63/150\n",
      "63/63 [==============================] - 0s 2ms/step - loss: 0.2006\n",
      "Epoch 64/150\n",
      "63/63 [==============================] - 0s 2ms/step - loss: 0.1954\n",
      "Epoch 65/150\n",
      "63/63 [==============================] - 0s 2ms/step - loss: 0.1978\n",
      "Epoch 66/150\n",
      "63/63 [==============================] - 0s 2ms/step - loss: 0.1993\n",
      "Epoch 67/150\n",
      "63/63 [==============================] - 0s 2ms/step - loss: 0.1921\n",
      "Epoch 68/150\n",
      "63/63 [==============================] - 0s 1ms/step - loss: 0.1996\n",
      "Epoch 69/150\n",
      "63/63 [==============================] - 0s 2ms/step - loss: 0.1972\n",
      "Epoch 70/150\n",
      "63/63 [==============================] - 0s 2ms/step - loss: 0.1986\n",
      "Epoch 71/150\n",
      "63/63 [==============================] - 0s 1ms/step - loss: 0.1998\n",
      "Epoch 72/150\n",
      "63/63 [==============================] - 0s 2ms/step - loss: 0.1997\n",
      "Epoch 73/150\n",
      "63/63 [==============================] - 0s 2ms/step - loss: 0.1930\n",
      "Epoch 74/150\n",
      "63/63 [==============================] - 0s 2ms/step - loss: 0.1954\n",
      "Epoch 75/150\n",
      "63/63 [==============================] - 0s 2ms/step - loss: 0.1965\n",
      "Epoch 76/150\n",
      "63/63 [==============================] - 0s 2ms/step - loss: 0.1960\n",
      "Epoch 77/150\n",
      "63/63 [==============================] - 0s 2ms/step - loss: 0.1997\n",
      "Epoch 78/150\n",
      "63/63 [==============================] - 0s 2ms/step - loss: 0.1975\n",
      "Epoch 79/150\n",
      "63/63 [==============================] - 0s 2ms/step - loss: 0.1967\n",
      "Epoch 80/150\n",
      "63/63 [==============================] - 0s 2ms/step - loss: 0.1987\n",
      "Epoch 81/150\n",
      "63/63 [==============================] - 0s 1ms/step - loss: 0.1951\n",
      "Epoch 82/150\n",
      "63/63 [==============================] - 0s 2ms/step - loss: 0.2034\n",
      "Epoch 83/150\n",
      "63/63 [==============================] - 0s 2ms/step - loss: 0.1889\n",
      "Epoch 84/150\n",
      "63/63 [==============================] - 0s 3ms/step - loss: 0.1965\n",
      "Epoch 85/150\n",
      "63/63 [==============================] - 0s 2ms/step - loss: 0.1937\n",
      "Epoch 86/150\n",
      "63/63 [==============================] - 0s 2ms/step - loss: 0.1988\n",
      "Epoch 87/150\n",
      "63/63 [==============================] - 0s 2ms/step - loss: 0.2017\n",
      "Epoch 88/150\n",
      "63/63 [==============================] - 0s 2ms/step - loss: 0.1949\n",
      "Epoch 89/150\n",
      "63/63 [==============================] - 0s 2ms/step - loss: 0.1923\n",
      "Epoch 90/150\n",
      "63/63 [==============================] - 0s 2ms/step - loss: 0.2017\n",
      "Epoch 91/150\n",
      "63/63 [==============================] - 0s 2ms/step - loss: 0.1959\n",
      "Epoch 92/150\n",
      "63/63 [==============================] - 0s 2ms/step - loss: 0.1963\n",
      "Epoch 93/150\n",
      "63/63 [==============================] - 0s 2ms/step - loss: 0.1885\n",
      "Epoch 94/150\n",
      "63/63 [==============================] - 0s 2ms/step - loss: 0.1974\n",
      "Epoch 95/150\n",
      "63/63 [==============================] - 0s 2ms/step - loss: 0.1983\n",
      "Epoch 96/150\n",
      "63/63 [==============================] - 0s 2ms/step - loss: 0.1978\n",
      "Epoch 97/150\n",
      "63/63 [==============================] - 0s 2ms/step - loss: 0.1957\n",
      "Epoch 98/150\n",
      "63/63 [==============================] - 0s 1ms/step - loss: 0.1982\n",
      "Epoch 99/150\n",
      "63/63 [==============================] - 0s 2ms/step - loss: 0.1907\n",
      "Epoch 100/150\n",
      "63/63 [==============================] - 0s 2ms/step - loss: 0.1932\n",
      "Epoch 101/150\n",
      "63/63 [==============================] - 0s 2ms/step - loss: 0.1955\n",
      "Epoch 102/150\n",
      "63/63 [==============================] - 0s 2ms/step - loss: 0.1928\n",
      "Epoch 103/150\n",
      "63/63 [==============================] - 0s 2ms/step - loss: 0.1933\n",
      "Epoch 104/150\n",
      "63/63 [==============================] - 0s 1ms/step - loss: 0.1942\n",
      "Epoch 105/150\n",
      "63/63 [==============================] - 0s 1ms/step - loss: 0.1916\n",
      "Epoch 106/150\n",
      "63/63 [==============================] - 0s 2ms/step - loss: 0.1950\n",
      "Epoch 107/150\n",
      "63/63 [==============================] - 0s 2ms/step - loss: 0.1976\n",
      "Epoch 108/150\n",
      "63/63 [==============================] - 0s 2ms/step - loss: 0.1996\n",
      "Epoch 109/150\n",
      "63/63 [==============================] - 0s 2ms/step - loss: 0.1951\n",
      "Epoch 110/150\n",
      "63/63 [==============================] - 0s 1ms/step - loss: 0.1962\n",
      "Epoch 111/150\n",
      "63/63 [==============================] - 0s 1ms/step - loss: 0.2013\n",
      "Epoch 112/150\n",
      "63/63 [==============================] - 0s 2ms/step - loss: 0.1889\n",
      "Epoch 113/150\n",
      "63/63 [==============================] - 0s 2ms/step - loss: 0.1992\n",
      "Epoch 114/150\n",
      "63/63 [==============================] - 0s 2ms/step - loss: 0.1961\n",
      "Epoch 115/150\n",
      "63/63 [==============================] - 0s 2ms/step - loss: 0.1985\n",
      "Epoch 116/150\n",
      "63/63 [==============================] - 0s 2ms/step - loss: 0.1963\n",
      "Epoch 117/150\n",
      "63/63 [==============================] - 0s 2ms/step - loss: 0.1948\n",
      "Epoch 118/150\n",
      "63/63 [==============================] - 0s 2ms/step - loss: 0.1995\n",
      "Epoch 119/150\n",
      "63/63 [==============================] - 0s 2ms/step - loss: 0.2015\n",
      "Epoch 120/150\n",
      "63/63 [==============================] - 0s 2ms/step - loss: 0.1978\n",
      "Epoch 121/150\n",
      "63/63 [==============================] - 0s 2ms/step - loss: 0.1981\n",
      "Epoch 122/150\n",
      "63/63 [==============================] - 0s 2ms/step - loss: 0.2003\n",
      "Epoch 123/150\n",
      "63/63 [==============================] - 0s 2ms/step - loss: 0.1974\n",
      "Epoch 124/150\n",
      "63/63 [==============================] - 0s 2ms/step - loss: 0.1910\n",
      "Epoch 125/150\n",
      "63/63 [==============================] - 0s 2ms/step - loss: 0.1977\n",
      "Epoch 126/150\n",
      "63/63 [==============================] - 0s 2ms/step - loss: 0.1926\n",
      "Epoch 127/150\n",
      "63/63 [==============================] - 0s 2ms/step - loss: 0.1984\n",
      "Epoch 128/150\n",
      "63/63 [==============================] - 0s 2ms/step - loss: 0.2042\n",
      "Epoch 129/150\n",
      "63/63 [==============================] - 0s 2ms/step - loss: 0.1910\n",
      "Epoch 130/150\n",
      "63/63 [==============================] - 0s 2ms/step - loss: 0.1978\n",
      "Epoch 131/150\n",
      "63/63 [==============================] - 0s 2ms/step - loss: 0.1970\n",
      "Epoch 132/150\n",
      "63/63 [==============================] - 0s 2ms/step - loss: 0.1999\n",
      "Epoch 133/150\n",
      "63/63 [==============================] - 0s 2ms/step - loss: 0.2048\n",
      "Epoch 134/150\n",
      "63/63 [==============================] - 0s 2ms/step - loss: 0.2021\n",
      "Epoch 135/150\n",
      "63/63 [==============================] - 0s 2ms/step - loss: 0.1943\n",
      "Epoch 136/150\n",
      "63/63 [==============================] - 0s 2ms/step - loss: 0.1947\n",
      "Epoch 137/150\n",
      "63/63 [==============================] - 0s 2ms/step - loss: 0.1944\n",
      "Epoch 138/150\n",
      "63/63 [==============================] - 0s 2ms/step - loss: 0.1971\n",
      "Epoch 139/150\n",
      "63/63 [==============================] - 0s 1ms/step - loss: 0.1971\n",
      "Epoch 140/150\n",
      "63/63 [==============================] - 0s 2ms/step - loss: 0.2000\n",
      "Epoch 141/150\n",
      "63/63 [==============================] - 0s 1ms/step - loss: 0.1958\n",
      "Epoch 142/150\n",
      "63/63 [==============================] - 0s 2ms/step - loss: 0.1940\n",
      "Epoch 143/150\n",
      "63/63 [==============================] - 0s 2ms/step - loss: 0.1956\n",
      "Epoch 144/150\n",
      "63/63 [==============================] - 0s 2ms/step - loss: 0.2004\n",
      "Epoch 145/150\n",
      "63/63 [==============================] - 0s 2ms/step - loss: 0.1963\n",
      "Epoch 146/150\n",
      "63/63 [==============================] - 0s 2ms/step - loss: 0.1966\n",
      "Epoch 147/150\n",
      "63/63 [==============================] - 0s 1ms/step - loss: 0.1968\n",
      "Epoch 148/150\n",
      "63/63 [==============================] - 0s 2ms/step - loss: 0.1943\n",
      "Epoch 149/150\n",
      "63/63 [==============================] - 0s 2ms/step - loss: 0.1953\n",
      "Epoch 150/150\n",
      "63/63 [==============================] - 0s 2ms/step - loss: 0.1929\n"
     ]
    },
    {
     "data": {
      "text/plain": [
       "<tensorflow.python.keras.callbacks.History at 0x1d0dbf1dbe0>"
      ]
     },
     "execution_count": 20,
     "metadata": {},
     "output_type": "execute_result"
    }
   ],
   "source": [
    "model.fit(x,y,epochs = 150)"
   ]
  },
  {
   "cell_type": "code",
   "execution_count": 21,
   "id": "departmental-hughes",
   "metadata": {},
   "outputs": [],
   "source": [
    "y_dash = model.predict(x)"
   ]
  },
  {
   "cell_type": "code",
   "execution_count": 22,
   "id": "vocational-speech",
   "metadata": {},
   "outputs": [
    {
     "data": {
      "text/plain": [
       "array([-0.9477769], dtype=float32)"
      ]
     },
     "execution_count": 22,
     "metadata": {},
     "output_type": "execute_result"
    }
   ],
   "source": [
    "y_dash[0]"
   ]
  },
  {
   "cell_type": "code",
   "execution_count": 23,
   "id": "approved-center",
   "metadata": {},
   "outputs": [
    {
     "data": {
      "text/plain": [
       "[<matplotlib.lines.Line2D at 0x1d0dc1b5970>]"
      ]
     },
     "execution_count": 23,
     "metadata": {},
     "output_type": "execute_result"
    },
    {
     "data": {
      "image/png": "[encoded data removed]",
      "text/plain": [
       "<Figure size 432x288 with 1 Axes>"
      ]
     },
     "metadata": {
      "needs_background": "light"
     },
     "output_type": "display_data"
    }
   ],
   "source": [
    "plt.plot(y_dash)"
   ]
  },
  {
   "cell_type": "markdown",
   "id": "southwest-variation",
   "metadata": {},
   "source": [
    "### As you can see, the output straight line is not a good approximation to the sine function, \n",
    "### we need to add non-linearity to this approximation, we do that by using an activation \n",
    "### function such as ReLU activation function"
   ]
  },
  {
   "cell_type": "code",
   "execution_count": 37,
   "id": "ranging-subdivision",
   "metadata": {},
   "outputs": [],
   "source": [
    "model = Sequential()"
   ]
  },
  {
   "cell_type": "code",
   "execution_count": 38,
   "id": "printable-orleans",
   "metadata": {},
   "outputs": [],
   "source": [
    "model.add(Dense(16,input_dim=1,activation='relu')) # Let's use more neurons, each neuron represents WX + b\n",
    "model.add(Dense(1)) # We need to add another single layer with one neuron to get only a single number as an output"
   ]
  },
  {
   "cell_type": "code",
   "execution_count": 39,
   "id": "modified-allocation",
   "metadata": {},
   "outputs": [],
   "source": [
    "model.compile('adam','mean_squared_error')"
   ]
  },
  {
   "cell_type": "code",
   "execution_count": 40,
   "id": "earned-thickness",
   "metadata": {},
   "outputs": [
    {
     "name": "stdout",
     "output_type": "stream",
     "text": [
      "Epoch 1/50\n",
      "63/63 [==============================] - 1s 1ms/step - loss: 0.4200\n",
      "Epoch 2/50\n",
      "63/63 [==============================] - 0s 2ms/step - loss: 0.2362\n",
      "Epoch 3/50\n",
      "63/63 [==============================] - 0s 2ms/step - loss: 0.1938\n",
      "Epoch 4/50\n",
      "63/63 [==============================] - 0s 2ms/step - loss: 0.1802\n",
      "Epoch 5/50\n",
      "63/63 [==============================] - 0s 2ms/step - loss: 0.1651\n",
      "Epoch 6/50\n",
      "63/63 [==============================] - 0s 1ms/step - loss: 0.1531\n",
      "Epoch 7/50\n",
      "63/63 [==============================] - 0s 2ms/step - loss: 0.1297\n",
      "Epoch 8/50\n",
      "63/63 [==============================] - 0s 1ms/step - loss: 0.1184\n",
      "Epoch 9/50\n",
      "63/63 [==============================] - 0s 1ms/step - loss: 0.1085\n",
      "Epoch 10/50\n",
      "63/63 [==============================] - 0s 2ms/step - loss: 0.0891\n",
      "Epoch 11/50\n",
      "63/63 [==============================] - 0s 2ms/step - loss: 0.0851\n",
      "Epoch 12/50\n",
      "63/63 [==============================] - 0s 2ms/step - loss: 0.0726\n",
      "Epoch 13/50\n",
      "63/63 [==============================] - 0s 2ms/step - loss: 0.0607\n",
      "Epoch 14/50\n",
      "63/63 [==============================] - 0s 1ms/step - loss: 0.0535\n",
      "Epoch 15/50\n",
      "63/63 [==============================] - 0s 1ms/step - loss: 0.0467\n",
      "Epoch 16/50\n",
      "63/63 [==============================] - 0s 2ms/step - loss: 0.0435\n",
      "Epoch 17/50\n",
      "63/63 [==============================] - 0s 2ms/step - loss: 0.0384\n",
      "Epoch 18/50\n",
      "63/63 [==============================] - 0s 1ms/step - loss: 0.0316\n",
      "Epoch 19/50\n",
      "63/63 [==============================] - 0s 2ms/step - loss: 0.0298\n",
      "Epoch 20/50\n",
      "63/63 [==============================] - 0s 2ms/step - loss: 0.0244\n",
      "Epoch 21/50\n",
      "63/63 [==============================] - ETA: 0s - loss: 0.021 - 0s 2ms/step - loss: 0.0214\n",
      "Epoch 22/50\n",
      "63/63 [==============================] - 0s 1ms/step - loss: 0.0194\n",
      "Epoch 23/50\n",
      "63/63 [==============================] - 0s 1ms/step - loss: 0.0176\n",
      "Epoch 24/50\n",
      "63/63 [==============================] - 0s 2ms/step - loss: 0.0152\n",
      "Epoch 25/50\n",
      "63/63 [==============================] - 0s 1ms/step - loss: 0.0142\n",
      "Epoch 26/50\n",
      "63/63 [==============================] - 0s 2ms/step - loss: 0.0118\n",
      "Epoch 27/50\n",
      "63/63 [==============================] - 0s 2ms/step - loss: 0.0106\n",
      "Epoch 28/50\n",
      "63/63 [==============================] - 0s 1ms/step - loss: 0.0099\n",
      "Epoch 29/50\n",
      "63/63 [==============================] - 0s 1ms/step - loss: 0.0098\n",
      "Epoch 30/50\n",
      "63/63 [==============================] - 0s 2ms/step - loss: 0.0086\n",
      "Epoch 31/50\n",
      "63/63 [==============================] - 0s 2ms/step - loss: 0.0065\n",
      "Epoch 32/50\n",
      "63/63 [==============================] - 0s 3ms/step - loss: 0.0068A: 0s - loss: 0.007\n",
      "Epoch 33/50\n",
      "63/63 [==============================] - 0s 2ms/step - loss: 0.0057\n",
      "Epoch 34/50\n",
      "63/63 [==============================] - 0s 1ms/step - loss: 0.0052\n",
      "Epoch 35/50\n",
      "63/63 [==============================] - 0s 2ms/step - loss: 0.0049\n",
      "Epoch 36/50\n",
      "63/63 [==============================] - 0s 2ms/step - loss: 0.0041\n",
      "Epoch 37/50\n",
      "63/63 [==============================] - 0s 2ms/step - loss: 0.0043\n",
      "Epoch 38/50\n",
      "63/63 [==============================] - 0s 2ms/step - loss: 0.0037\n",
      "Epoch 39/50\n",
      "63/63 [==============================] - 0s 1ms/step - loss: 0.0033\n",
      "Epoch 40/50\n",
      "63/63 [==============================] - 0s 3ms/step - loss: 0.0028\n",
      "Epoch 41/50\n",
      "63/63 [==============================] - 0s 2ms/step - loss: 0.0031\n",
      "Epoch 42/50\n",
      "63/63 [==============================] - 0s 2ms/step - loss: 0.0027\n",
      "Epoch 43/50\n",
      "63/63 [==============================] - 0s 2ms/step - loss: 0.0024\n",
      "Epoch 44/50\n",
      "63/63 [==============================] - 0s 1ms/step - loss: 0.0022\n",
      "Epoch 45/50\n",
      "63/63 [==============================] - 0s 2ms/step - loss: 0.0023\n",
      "Epoch 46/50\n",
      "63/63 [==============================] - 0s 2ms/step - loss: 0.0018\n",
      "Epoch 47/50\n",
      "63/63 [==============================] - 0s 1ms/step - loss: 0.0017\n",
      "Epoch 48/50\n",
      "63/63 [==============================] - 0s 1ms/step - loss: 0.0016\n",
      "Epoch 49/50\n",
      "63/63 [==============================] - 0s 1ms/step - loss: 0.0015\n",
      "Epoch 50/50\n",
      "63/63 [==============================] - 0s 2ms/step - loss: 0.0015\n"
     ]
    },
    {
     "data": {
      "text/plain": [
       "<tensorflow.python.keras.callbacks.History at 0x1d0dd6963a0>"
      ]
     },
     "execution_count": 40,
     "metadata": {},
     "output_type": "execute_result"
    }
   ],
   "source": [
    "model.fit(x,y,epochs=50)"
   ]
  },
  {
   "cell_type": "code",
   "execution_count": 43,
   "id": "lonely-heath",
   "metadata": {},
   "outputs": [],
   "source": [
    "y_bar = model.predict(x) "
   ]
  },
  {
   "cell_type": "code",
   "execution_count": 44,
   "id": "rotary-enforcement",
   "metadata": {},
   "outputs": [
    {
     "data": {
      "text/plain": [
       "[<matplotlib.lines.Line2D at 0x1d0dd893d90>]"
      ]
     },
     "execution_count": 44,
     "metadata": {},
     "output_type": "execute_result"
    },
    {
     "data": {
      "image/png": "[encoded data removed]",
      "text/plain": [
       "<Figure size 432x288 with 1 Axes>"
      ]
     },
     "metadata": {
      "needs_background": "light"
     },
     "output_type": "display_data"
    }
   ],
   "source": [
    "plt.plot(y_bar,'--r')\n",
    "plt.plot(y)"
   ]
  },
  {
   "cell_type": "markdown",
   "id": "unnecessary-flavor",
   "metadata": {},
   "source": [
    "### See how the approximation (in red) is  much better, you can get an even better one by increasing the 16 neurons in the first layer "
   ]
  },
  {
   "cell_type": "markdown",
   "id": "impressive-compression",
   "metadata": {},
   "source": [
    "# Section 2: MNIST dataset"
   ]
  },
  {
   "cell_type": "code",
   "execution_count": 75,
   "id": "requested-chamber",
   "metadata": {},
   "outputs": [],
   "source": [
    "from tensorflow.keras.datasets import mnist"
   ]
  },
  {
   "cell_type": "code",
   "execution_count": 76,
   "id": "dried-greensboro",
   "metadata": {},
   "outputs": [],
   "source": [
    "(x_train, y_train), (x_test, y_test) = mnist.load_data()"
   ]
  },
  {
   "cell_type": "code",
   "execution_count": 80,
   "id": "amber-share",
   "metadata": {},
   "outputs": [
    {
     "name": "stdout",
     "output_type": "stream",
     "text": [
      "x_train shape: (60000, 28, 28)\n",
      "y_train shape: (60000,)\n",
      "x_test shape: (10000, 28, 28)\n",
      "y_test shape: (10000,)\n"
     ]
    }
   ],
   "source": [
    "print('x_train shape:',x_train.shape)\n",
    "print('y_train shape:',y_train.shape)\n",
    "print('x_test shape:',x_test.shape)\n",
    "print('y_test shape:',y_test.shape)\n"
   ]
  },
  {
   "cell_type": "code",
   "execution_count": 121,
   "id": "hawaiian-medicare",
   "metadata": {},
   "outputs": [
    {
     "data": {
      "image/png": "[encoded data removed]",
      "text/plain": [
       "<Figure size 1080x1080 with 12 Axes>"
      ]
     },
     "metadata": {
      "needs_background": "light"
     },
     "output_type": "display_data"
    }
   ],
   "source": [
    "plt.figure(figsize=(15,15))\n",
    "for i in range(12):\n",
    "    ax = plt.subplot(6,2,i+1)\n",
    "    plt.imshow(x_train[i])\n",
    "    ax.set_ylabel('label ' + str(y_train[i]) )"
   ]
  },
  {
   "cell_type": "code",
   "execution_count": 122,
   "id": "finnish-yukon",
   "metadata": {},
   "outputs": [],
   "source": [
    "x_train = x_train/255.0\n",
    "x_test = x_test/255.0"
   ]
  },
  {
   "cell_type": "code",
   "execution_count": 123,
   "id": "alike-tunisia",
   "metadata": {},
   "outputs": [],
   "source": [
    "from tensorflow.keras.utils import to_categorical # We need to convert the labels to one hot encoded vectors\n",
    "                                                  # [4] --> [0,0,0,1,0,0,0,0,0,0]"
   ]
  },
  {
   "cell_type": "code",
   "execution_count": 124,
   "id": "accredited-gazette",
   "metadata": {},
   "outputs": [],
   "source": [
    "y_train = to_categorical(y_train,10)\n",
    "y_test = to_categorical(y_test,10)"
   ]
  },
  {
   "cell_type": "code",
   "execution_count": 125,
   "id": "sweet-circulation",
   "metadata": {},
   "outputs": [
    {
     "name": "stdout",
     "output_type": "stream",
     "text": [
      "x_train shape: (60000, 28, 28)\n",
      "y_train shape: (60000, 10)\n",
      "x_test shape: (10000, 28, 28)\n",
      "y_test shape: (10000, 10)\n"
     ]
    }
   ],
   "source": [
    "print('x_train shape:',x_train.shape)\n",
    "print('y_train shape:',y_train.shape)\n",
    "print('x_test shape:',x_test.shape)\n",
    "print('y_test shape:',y_test.shape)\n"
   ]
  },
  {
   "cell_type": "code",
   "execution_count": 129,
   "id": "enclosed-better",
   "metadata": {},
   "outputs": [
    {
     "data": {
      "text/plain": [
       "numpy.ndarray"
      ]
     },
     "execution_count": 129,
     "metadata": {},
     "output_type": "execute_result"
    }
   ],
   "source": [
    "type(x_train)"
   ]
  },
  {
   "cell_type": "code",
   "execution_count": 143,
   "id": "alone-amateur",
   "metadata": {},
   "outputs": [],
   "source": [
    "x_train = x_train.reshape(-1,28*28)\n",
    "x_test = x_test.reshape(-1,28*28)  # Flatten the input data "
   ]
  },
  {
   "cell_type": "code",
   "execution_count": 144,
   "id": "western-logging",
   "metadata": {},
   "outputs": [
    {
     "name": "stdout",
     "output_type": "stream",
     "text": [
      "x_train shape: (60000, 784)\n",
      "y_train shape: (60000, 10)\n",
      "x_test shape: (10000, 784)\n",
      "y_test shape: (10000, 10)\n"
     ]
    }
   ],
   "source": [
    "print('x_train shape:',x_train.shape)\n",
    "print('y_train shape:',y_train.shape)\n",
    "print('x_test shape:',x_test.shape)\n",
    "print('y_test shape:',y_test.shape)\n"
   ]
  },
  {
   "cell_type": "code",
   "execution_count": 45,
   "id": "interim-progress",
   "metadata": {},
   "outputs": [],
   "source": [
    "model = Sequential([\n",
    "    Dense(512,input_shape=(784,),activation = 'relu',name='fc1'),\n",
    "    Dense(1024,activation = 'relu',name='fc2'),\n",
    "    Dense(10,activation = 'softmax',name='final')]    # Output layer must have number of neurons same as number of classes \n",
    "                  )                                   # and a Softmax activation function "
   ]
  },
  {
   "cell_type": "code",
   "execution_count": 146,
   "id": "attached-while",
   "metadata": {},
   "outputs": [
    {
     "name": "stdout",
     "output_type": "stream",
     "text": [
      "Model: \"sequential_9\"\n",
      "_________________________________________________________________\n",
      "Layer (type)                 Output Shape              Param #   \n",
      "=================================================================\n",
      "fc1 (Dense)                  (None, 512)               401920    \n",
      "_________________________________________________________________\n",
      "fc2 (Dense)                  (None, 1024)              525312    \n",
      "_________________________________________________________________\n",
      "final (Dense)                (None, 10)                10250     \n",
      "=================================================================\n",
      "Total params: 937,482\n",
      "Trainable params: 937,482\n",
      "Non-trainable params: 0\n",
      "_________________________________________________________________\n"
     ]
    }
   ],
   "source": [
    "model.summary()"
   ]
  },
  {
   "cell_type": "code",
   "execution_count": 149,
   "id": "hybrid-numbers",
   "metadata": {},
   "outputs": [],
   "source": [
    "model.compile(optimizer='adam',loss='categorical_crossentropy',metrics=['accuracy'])"
   ]
  },
  {
   "cell_type": "code",
   "execution_count": null,
   "id": "gothic-professional",
   "metadata": {},
   "outputs": [],
   "source": [
    "model.fit(x_train,y_train,epochs=12)"
   ]
  },
  {
   "cell_type": "code",
   "execution_count": 151,
   "id": "religious-figure",
   "metadata": {},
   "outputs": [],
   "source": [
    "predictions = np.argmax(model.predict(x_train[:15]),axis=1)"
   ]
  },
  {
   "cell_type": "code",
   "execution_count": 152,
   "id": "standard-rotation",
   "metadata": {},
   "outputs": [
    {
     "data": {
      "text/plain": [
       "array([5, 0, 4, 1, 9, 2, 1, 3, 1, 4, 3, 5, 3, 6, 1], dtype=int64)"
      ]
     },
     "execution_count": 152,
     "metadata": {},
     "output_type": "execute_result"
    }
   ],
   "source": [
    "predictions"
   ]
  },
  {
   "cell_type": "code",
   "execution_count": 155,
   "id": "wound-norman",
   "metadata": {
    "scrolled": true
   },
   "outputs": [
    {
     "data": {
      "text/plain": [
       "array([5, 0, 4, 1, 9, 2, 1, 3, 1, 4, 3, 5, 3, 6, 1], dtype=int64)"
      ]
     },
     "execution_count": 155,
     "metadata": {},
     "output_type": "execute_result"
    }
   ],
   "source": [
    "np.argmax(y_train[:15],axis=1)"
   ]
  },
  {
   "cell_type": "markdown",
   "id": "suited-reality",
   "metadata": {},
   "source": [
    "## You can get better results with less computation using Convolutional Neural Networks"
   ]
  },
  {
   "cell_type": "code",
   "execution_count": 157,
   "id": "laughing-respondent",
   "metadata": {},
   "outputs": [],
   "source": [
    "from tensorflow.keras.layers import Conv2D,MaxPooling2D,Flatten"
   ]
  },
  {
   "cell_type": "code",
   "execution_count": 189,
   "id": "owned-longitude",
   "metadata": {},
   "outputs": [],
   "source": [
    "model = Sequential([\n",
    "    Conv2D(32,(3,3),activation='relu',strides=(1,1),padding='same',input_shape=(28,28,1)),\n",
    "    MaxPooling2D((3,3)),\n",
    "    Flatten(),\n",
    "    Dense(10,'softmax')\n",
    "])"
   ]
  },
  {
   "cell_type": "code",
   "execution_count": 190,
   "id": "foster-sleeping",
   "metadata": {
    "scrolled": true
   },
   "outputs": [
    {
     "name": "stdout",
     "output_type": "stream",
     "text": [
      "Model: \"sequential_15\"\n",
      "_________________________________________________________________\n",
      "Layer (type)                 Output Shape              Param #   \n",
      "=================================================================\n",
      "conv2d_5 (Conv2D)            (None, 28, 28, 32)        320       \n",
      "_________________________________________________________________\n",
      "max_pooling2d_5 (MaxPooling2 (None, 9, 9, 32)          0         \n",
      "_________________________________________________________________\n",
      "flatten_6 (Flatten)          (None, 2592)              0         \n",
      "_________________________________________________________________\n",
      "dense_20 (Dense)             (None, 10)                25930     \n",
      "=================================================================\n",
      "Total params: 26,250\n",
      "Trainable params: 26,250\n",
      "Non-trainable params: 0\n",
      "_________________________________________________________________\n"
     ]
    }
   ],
   "source": [
    "model.summary()"
   ]
  },
  {
   "cell_type": "code",
   "execution_count": 191,
   "id": "czech-trash",
   "metadata": {},
   "outputs": [],
   "source": [
    "model.compile('adam','categorical_crossentropy',['accuracy'])"
   ]
  },
  {
   "cell_type": "code",
   "execution_count": 165,
   "id": "derived-plate",
   "metadata": {},
   "outputs": [],
   "source": [
    "x_train= x_train.reshape(-1,28,28,1) # For Conv Nets, we don't need to flatten the data before the network\n",
    "x_test= x_test.reshape(-1,28,28,1) # as it's done inside the network acter Convolution layers"
   ]
  },
  {
   "cell_type": "code",
   "execution_count": 167,
   "id": "crazy-special",
   "metadata": {},
   "outputs": [
    {
     "data": {
      "text/plain": [
       "(60000, 28, 28, 1)"
      ]
     },
     "execution_count": 167,
     "metadata": {},
     "output_type": "execute_result"
    }
   ],
   "source": [
    "x_train.shape"
   ]
  },
  {
   "cell_type": "code",
   "execution_count": 192,
   "id": "front-center",
   "metadata": {},
   "outputs": [
    {
     "name": "stdout",
     "output_type": "stream",
     "text": [
      "Epoch 1/2\n",
      "1875/1875 [==============================] - 26s 13ms/step - loss: 0.5103 - accuracy: 0.8526\n",
      "Epoch 2/2\n",
      "1875/1875 [==============================] - 28s 15ms/step - loss: 0.1034 - accuracy: 0.9697\n"
     ]
    },
    {
     "data": {
      "text/plain": [
       "<tensorflow.python.keras.callbacks.History at 0x1b7b7ceb910>"
      ]
     },
     "execution_count": 192,
     "metadata": {},
     "output_type": "execute_result"
    }
   ],
   "source": [
    "model.fit(x_train,y_train,epochs=2)"
   ]
  },
  {
   "cell_type": "code",
   "execution_count": 197,
   "id": "advanced-stewart",
   "metadata": {},
   "outputs": [],
   "source": [
    "preds = np.argmax(model.predict(x_train[:15]),axis=1)"
   ]
  },
  {
   "cell_type": "code",
   "execution_count": 198,
   "id": "impressed-passport",
   "metadata": {},
   "outputs": [
    {
     "data": {
      "text/plain": [
       "array([5, 0, 4, 1, 9, 2, 1, 3, 1, 4, 3, 5, 3, 6, 1], dtype=int64)"
      ]
     },
     "execution_count": 198,
     "metadata": {},
     "output_type": "execute_result"
    }
   ],
   "source": [
    "preds"
   ]
  },
  {
   "cell_type": "code",
   "execution_count": null,
   "id": "sudden-flour",
   "metadata": {},
   "outputs": [],
   "source": []
  }
 ],
 "metadata": {
  "kernelspec": {
   "display_name": "Python 3",
   "language": "python",
   "name": "python3"
  },
  "language_info": {
   "codemirror_mode": {
    "name": "ipython",
    "version": 3
   },
   "file_extension": ".py",
   "mimetype": "text/x-python",
   "name": "python",
   "nbconvert_exporter": "python",
   "pygments_lexer": "ipython3",
   "version": "3.8.6"
  }
 },
 "nbformat": 4,
 "nbformat_minor": 5
}
