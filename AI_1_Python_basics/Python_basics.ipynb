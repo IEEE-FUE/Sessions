{
 "cells": [
  {
   "cell_type": "markdown",
   "id": "becoming-queen",
   "metadata": {},
   "source": [
    "# Welcome ! \n",
    "### This notebook should help you get familier with Python"
   ]
  },
  {
   "cell_type": "markdown",
   "id": "selected-balance",
   "metadata": {},
   "source": [
    "### Let's start with variables\n",
    "### in Python you don't need to declare variables before you use them \n",
    "### Use shift + enter to run the following cell"
   ]
  },
  {
   "cell_type": "code",
   "execution_count": 3,
   "id": "verified-tenant",
   "metadata": {},
   "outputs": [],
   "source": [
    "x = 4 \n",
    "x = (x + 5) * 5"
   ]
  },
  {
   "cell_type": "markdown",
   "id": "starting-confirmation",
   "metadata": {},
   "source": [
    "### x is now stored in the ram and you can use it in any other cell "
   ]
  },
  {
   "cell_type": "code",
   "execution_count": 4,
   "id": "herbal-motel",
   "metadata": {},
   "outputs": [
    {
     "name": "stdout",
     "output_type": "stream",
     "text": [
      "the value of x is  45\n"
     ]
    }
   ],
   "source": [
    "print(\"the value of x is \", x)"
   ]
  },
  {
   "cell_type": "markdown",
   "id": "located-monitor",
   "metadata": {},
   "source": [
    "### to print an output, use the print() function "
   ]
  },
  {
   "cell_type": "code",
   "execution_count": null,
   "id": "unauthorized-democrat",
   "metadata": {},
   "outputs": [],
   "source": [
    "#Use the print function to print hello, world!\n"
   ]
  },
  {
   "cell_type": "markdown",
   "id": "quick-laugh",
   "metadata": {},
   "source": [
    "### Expected output :\n",
    "### Hello, world!"
   ]
  },
  {
   "cell_type": "code",
   "execution_count": 55,
   "id": "mysterious-patrol",
   "metadata": {},
   "outputs": [
    {
     "name": "stdout",
     "output_type": "stream",
     "text": [
      "A\n"
     ]
    }
   ],
   "source": [
    "x = 4\n",
    "x = 4.5\n",
    "x = \"hello\" # no difference between single and double quotations \n",
    "x = 'hello'\n",
    "x = \"A\" # Values are overwritten with no problem, more details about that later\n",
    "print(x)"
   ]
  },
  {
   "cell_type": "markdown",
   "id": "final-messenger",
   "metadata": {},
   "source": [
    "# Collections\n",
    "## in python there are many types of collections (and they don't include arrays)\n",
    "### first one is a list, a list is written like with square brackets and can hold any data type, and even mix data types\n"
   ]
  },
  {
   "cell_type": "code",
   "execution_count": 57,
   "id": "gorgeous-cologne",
   "metadata": {},
   "outputs": [
    {
     "name": "stdout",
     "output_type": "stream",
     "text": [
      "[3, 4, 5, 'mafeesh moshkla', '7ata law string ma3 int', 4.5, 'w law float bardo 2eshta kolo yemshy']\n"
     ]
    }
   ],
   "source": [
    "list_a = [3,4,5,\"mafeesh moshkla\",\"7ata law string ma3 int\",4.5,\"w law float bardo 2eshta kolo yemshy\"]\n",
    "print(list_a) "
   ]
  },
  {
   "cell_type": "code",
   "execution_count": 15,
   "id": "hungarian-cancer",
   "metadata": {},
   "outputs": [
    {
     "name": "stdout",
     "output_type": "stream",
     "text": [
      "[]\n",
      "<class 'list'>\n"
     ]
    }
   ],
   "source": [
    "# You can declare an empty list in two ways \n",
    "# either use this\n",
    "list_b = []\n",
    "# or this\n",
    "list_b = list()   #see how the word is colored in green?\n",
    "print(list_b)\n",
    "print(type(list_b)) # type is a built in method to find the type of anything, note that everything in python is an object, \n",
    "                    # but don't worry about this now"
   ]
  },
  {
   "cell_type": "markdown",
   "id": "convertible-amsterdam",
   "metadata": {},
   "source": [
    "## Some useful list methods include list.append() --> which adds an element to the end of the list"
   ]
  },
  {
   "cell_type": "code",
   "execution_count": 16,
   "id": "divine-technician",
   "metadata": {},
   "outputs": [
    {
     "name": "stdout",
     "output_type": "stream",
     "text": [
      "[5, '9aba7 El5eir']\n"
     ]
    }
   ],
   "source": [
    "a = list()\n",
    "\n",
    "\n",
    "a.append(5)\n",
    "a.append(\"9aba7 El5eir\")\n",
    "print(a)"
   ]
  },
  {
   "cell_type": "markdown",
   "id": "harmful-manchester",
   "metadata": {},
   "source": [
    "## in Jupyter notebooks, you can use the tab button to get suggestions or autocomplete"
   ]
  },
  {
   "cell_type": "code",
   "execution_count": 17,
   "id": "alleged-germany",
   "metadata": {},
   "outputs": [],
   "source": [
    "# if i type a. then press tab, i will get suggesstions for list methods\n",
    "#a.                # Uncomment this line and try it"
   ]
  },
  {
   "cell_type": "markdown",
   "id": "contrary-philippines",
   "metadata": {},
   "source": [
    "## shift + tab inside the brackets of a function will open the documentation for you "
   ]
  },
  {
   "cell_type": "code",
   "execution_count": 18,
   "id": "indonesian-recommendation",
   "metadata": {},
   "outputs": [],
   "source": [
    "#a.clear() # uncomment, place the cursor inside the brackets and press shift + tab"
   ]
  },
  {
   "cell_type": "markdown",
   "id": "alleged-blood",
   "metadata": {},
   "source": [
    "### indexing is just like arrays in c++, starts from 0 "
   ]
  },
  {
   "cell_type": "code",
   "execution_count": 21,
   "id": "challenging-dependence",
   "metadata": {},
   "outputs": [
    {
     "name": "stdout",
     "output_type": "stream",
     "text": [
      "[1, 2, 3, 4, 5]\n",
      "the last elemnt is  5\n",
      "the third elemnt is  5\n"
     ]
    }
   ],
   "source": [
    "\n",
    "\n",
    "a = [1,2,3,4,5]\n",
    "print(a)\n",
    "print(\"the last elemnt is \", a[4])\n",
    "# python supports negative indexing (last elemnt is -1 and second to last is -2 and so on)\n",
    "print(\"the third elemnt is \", a[-1])\n",
    "\n"
   ]
  },
  {
   "cell_type": "markdown",
   "id": "local-rugby",
   "metadata": {},
   "source": [
    "## Very useful feature is called slicing -- taking a slice from a list "
   ]
  },
  {
   "cell_type": "code",
   "execution_count": 28,
   "id": "fresh-archives",
   "metadata": {},
   "outputs": [
    {
     "name": "stdout",
     "output_type": "stream",
     "text": [
      "7\n",
      "[7, 8, 9]\n",
      "[6, 7, 8, 9, 10]\n",
      "[1, 2, 3, 4, 5]\n"
     ]
    }
   ],
   "source": [
    "# say we want the last 3 elemnents only, you can get them by the colon opearrtor \n",
    "a = [1,2,3,4,5,6,7,8,9,10]\n",
    "print(a[6])\n",
    "print(a[6:9])  # starting from index 6 to 8 ---->  6 7 8  \n",
    "print(a[5:])   # if you leave out the argument after the colon, this means to the end \n",
    "print(a[:5])   # if you leave out the argument before the colon, this means from beginning  "
   ]
  },
  {
   "cell_type": "markdown",
   "id": "overhead-capacity",
   "metadata": {},
   "source": [
    "## collections include something called a tuple"
   ]
  },
  {
   "cell_type": "code",
   "execution_count": 31,
   "id": "behind-humanity",
   "metadata": {},
   "outputs": [
    {
     "name": "stdout",
     "output_type": "stream",
     "text": [
      "(1, 2, 3, 4, 5, 6, 7)\n",
      "(1, 2, 3, 4, 5, 6, 7)\n"
     ]
    }
   ],
   "source": [
    "# a tuple is written with round bracket and indexed just like lists\n",
    "# a tuple is an immutable object(can't be changed) and this is one main difference between them and lists\n",
    "# don't worry about what this means now \n",
    "\n",
    "t= (1,2,3,4,5,6,7)\n",
    "print(t)\n",
    "t = 1,2,3,4,5,6,7 # you can omit the brackets\n",
    "print(t)\n",
    "\n"
   ]
  },
  {
   "cell_type": "code",
   "execution_count": 32,
   "id": "existing-atlas",
   "metadata": {},
   "outputs": [
    {
     "ename": "TypeError",
     "evalue": "'tuple' object does not support item assignment",
     "output_type": "error",
     "traceback": [
      "\u001b[1;31m---------------------------------------------------------------------------\u001b[0m",
      "\u001b[1;31mTypeError\u001b[0m                                 Traceback (most recent call last)",
      "\u001b[1;32m<ipython-input-32-701395fad9df>\u001b[0m in \u001b[0;36m<module>\u001b[1;34m\u001b[0m\n\u001b[0;32m      1\u001b[0m \u001b[1;31m# assigning a value to an elemnt in a tuple won't work because tuples are immutable\u001b[0m\u001b[1;33m\u001b[0m\u001b[1;33m\u001b[0m\u001b[1;33m\u001b[0m\u001b[0m\n\u001b[1;32m----> 2\u001b[1;33m \u001b[0mt\u001b[0m\u001b[1;33m[\u001b[0m\u001b[1;36m0\u001b[0m\u001b[1;33m]\u001b[0m \u001b[1;33m=\u001b[0m \u001b[1;36m4\u001b[0m\u001b[1;33m\u001b[0m\u001b[1;33m\u001b[0m\u001b[0m\n\u001b[0m",
      "\u001b[1;31mTypeError\u001b[0m: 'tuple' object does not support item assignment"
     ]
    }
   ],
   "source": [
    "# assigning a value to an elemnt in a tuple won't work because tuples are immutable \n",
    "t[0] = 4"
   ]
  },
  {
   "cell_type": "markdown",
   "id": "incorporate-beginning",
   "metadata": {},
   "source": [
    "## lists and tuples are ordered, they keep the order of elements you give them"
   ]
  },
  {
   "cell_type": "markdown",
   "id": "tired-meditation",
   "metadata": {},
   "source": [
    "## sets are like tuples but do not allow repetition and are not ordered "
   ]
  },
  {
   "cell_type": "code",
   "execution_count": 35,
   "id": "foreign-mirror",
   "metadata": {},
   "outputs": [
    {
     "name": "stdout",
     "output_type": "stream",
     "text": [
      "{1, 2, 3, 4, 5}\n"
     ]
    }
   ],
   "source": [
    "set_a = {1,2,3,4,5,5,4,3,2,3,1} # curly brackets\n",
    "print(set_a)  # dublicates are not allowed"
   ]
  },
  {
   "cell_type": "code",
   "execution_count": 37,
   "id": "smoking-surface",
   "metadata": {},
   "outputs": [
    {
     "ename": "TypeError",
     "evalue": "'set' object is not subscriptable",
     "output_type": "error",
     "traceback": [
      "\u001b[1;31m---------------------------------------------------------------------------\u001b[0m",
      "\u001b[1;31mTypeError\u001b[0m                                 Traceback (most recent call last)",
      "\u001b[1;32m<ipython-input-37-1a44e452fb13>\u001b[0m in \u001b[0;36m<module>\u001b[1;34m\u001b[0m\n\u001b[1;32m----> 1\u001b[1;33m \u001b[0mset_a\u001b[0m\u001b[1;33m[\u001b[0m\u001b[1;36m0\u001b[0m\u001b[1;33m]\u001b[0m  \u001b[1;31m# no indexing in sets\u001b[0m\u001b[1;33m\u001b[0m\u001b[1;33m\u001b[0m\u001b[0m\n\u001b[0m",
      "\u001b[1;31mTypeError\u001b[0m: 'set' object is not subscriptable"
     ]
    }
   ],
   "source": [
    "set_a[0]  # no indexing in sets"
   ]
  },
  {
   "cell_type": "markdown",
   "id": "prime-mailing",
   "metadata": {},
   "source": [
    "## sets are useful for example if you want to know the unique values in a list "
   ]
  },
  {
   "cell_type": "code",
   "execution_count": 39,
   "id": "absent-twins",
   "metadata": {},
   "outputs": [
    {
     "name": "stdout",
     "output_type": "stream",
     "text": [
      "unique values in a are  {1, 2, 3, 4, 5, 6}\n"
     ]
    }
   ],
   "source": [
    "a = [1,2,3,4,2,2,4,5,6,6,3,4,5,5,5,5]\n",
    "b = set(a)\n",
    "print(\"unique values in a are \", b)"
   ]
  },
  {
   "cell_type": "markdown",
   "id": "handed-quarterly",
   "metadata": {},
   "source": [
    "## loops"
   ]
  },
  {
   "cell_type": "markdown",
   "id": "exact-package",
   "metadata": {},
   "source": [
    "## a for loop uses a variable as an index, and a iterable to iterate over\n",
    "## the range() function returns a list of numbers with number of elements as the argument you give it \n",
    "## an iterable means something you can loop over ( like a collection of numbers)"
   ]
  },
  {
   "cell_type": "markdown",
   "id": "complex-auction",
   "metadata": {},
   "source": [
    "# indentation is very important in python to differentiate between code inside a block and code outside it, code inside a block must be indented by one tab more "
   ]
  },
  {
   "cell_type": "code",
   "execution_count": 41,
   "id": "authentic-treat",
   "metadata": {},
   "outputs": [
    {
     "name": "stdout",
     "output_type": "stream",
     "text": [
      "0\n",
      "1\n",
      "2\n",
      "3\n",
      "4\n",
      "5\n",
      "6\n",
      "7\n",
      "8\n",
      "9\n",
      "this line is out of the for loop\n"
     ]
    }
   ],
   "source": [
    "for i in range(10): # range(10) ----> [0,1,2,3,4,5,6,7,8,9]\n",
    "    print(i)   \n",
    "print(\"this line is out of the for loop\")\n"
   ]
  },
  {
   "cell_type": "markdown",
   "id": "shaped-waste",
   "metadata": {},
   "source": [
    "<font color='blue'>\n",
    "    \n",
    "    \n",
    "# Now, let's make an application     </font> "
   ]
  },
  {
   "cell_type": "markdown",
   "id": "complete-interest",
   "metadata": {},
   "source": [
    "\n",
    "<font color='red'>\n",
    "\n",
    "# write a program to take 5 temperatures from user and print the average, max and min   </font>"
   ]
  },
  {
   "cell_type": "markdown",
   "id": "arranged-wayne",
   "metadata": {},
   "source": [
    "\n",
    "\n",
    "\n",
    "# complete the following function defintion  \n",
    "# function definitions in python are made using the keyword def\n",
    "# all code inside the function must be indented by one tab more than the line containing the word def\n",
    "# this function doesn't have to return anything, just print \n",
    "# input()  function is used to take input, the string you give it is displayed to the user\n",
    "# int(input()) converts the string input to an int"
   ]
  },
  {
   "cell_type": "markdown",
   "id": "timely-territory",
   "metadata": {},
   "source": [
    "## test case = 5,4,10,12,6"
   ]
  },
  {
   "cell_type": "code",
   "execution_count": null,
   "id": "positive-valuable",
   "metadata": {},
   "outputs": [],
   "source": []
  },
  {
   "cell_type": "code",
   "execution_count": 53,
   "id": "administrative-punishment",
   "metadata": {},
   "outputs": [],
   "source": [
    "def calculate_statistics():\n",
    "    # write some code here\n",
    "    \n",
    "    \n",
    "    \n",
    "    for i in range(5):\n",
    "        x = int(input(\"enter the \" +str(i+1)+\" temperature: \"))\n",
    "        \n",
    "    \n",
    "    \n",
    "    print(\"the average value is \")\n",
    "    \n",
    "    \n",
    "    print(\"the max value is \")\n",
    "    \n",
    "    print(\"the min value is \")\n",
    "    "
   ]
  },
  {
   "cell_type": "code",
   "execution_count": 52,
   "id": "incoming-haven",
   "metadata": {},
   "outputs": [
    {
     "name": "stdout",
     "output_type": "stream",
     "text": [
      "enter the 1 temperature: 5\n",
      "enter the 2 temperature: 4\n",
      "enter the 3 temperature: 10\n",
      "enter the 4 temperature: 12\n",
      "enter the 5 temperature: 6\n",
      "the average value is \n",
      "the max value is \n",
      "the min value is \n"
     ]
    }
   ],
   "source": [
    "calculate_statistics()"
   ]
  },
  {
   "cell_type": "markdown",
   "id": "parallel-reporter",
   "metadata": {},
   "source": [
    "## test cases = 5,4,10,12,6"
   ]
  },
  {
   "cell_type": "markdown",
   "id": "popular-sewing",
   "metadata": {},
   "source": [
    "## max = 12\n",
    "## min = 4\n",
    "## average = 7.4"
   ]
  },
  {
   "cell_type": "markdown",
   "id": "regional-concentrate",
   "metadata": {},
   "source": [
    "# Thanks for completing this notebook ! \n",
    "# I hope you learned something new"
   ]
  },
  {
   "cell_type": "code",
   "execution_count": null,
   "id": "working-healthcare",
   "metadata": {},
   "outputs": [],
   "source": []
  }
 ],
 "metadata": {
  "kernelspec": {
   "display_name": "Python 3 (ipykernel)",
   "language": "python",
   "name": "python3"
  },
  "language_info": {
   "codemirror_mode": {
    "name": "ipython",
    "version": 3
   },
   "file_extension": ".py",
   "mimetype": "text/x-python",
   "name": "python",
   "nbconvert_exporter": "python",
   "pygments_lexer": "ipython3",
   "version": "3.9.7"
  }
 },
 "nbformat": 4,
 "nbformat_minor": 5
}
